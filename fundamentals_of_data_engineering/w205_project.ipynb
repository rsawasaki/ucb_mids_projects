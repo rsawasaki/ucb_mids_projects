{
 "cells": [
  {
   "cell_type": "markdown",
   "metadata": {},
   "source": [
    "# Fundamentals of Data Engineering\n",
    "# Query Project\n",
    "# Ryan Sawasaki"
   ]
  },
  {
   "cell_type": "markdown",
   "metadata": {},
   "source": [
    "This jupyter notebook is a report providing findings regarding the data from Lyft Bay Wheels. The report provides insight into the 5 most popular \"commuter trips\" and recommendations for offers based on the findings"
   ]
  },
  {
   "cell_type": "code",
   "execution_count": 12,
   "metadata": {},
   "outputs": [],
   "source": [
    "import pandas as pd"
   ]
  },
  {
   "cell_type": "markdown",
   "metadata": {},
   "source": [
    "## 1. SQL Code and Pandas Dataframes"
   ]
  },
  {
   "cell_type": "markdown",
   "metadata": {},
   "source": [
    "### Morning Commuter Trips\n",
    "* The following SQL code loads the top 10 most popular morning commuter trips into Pandas using the magic command.<br> \n",
    "* Morning has been defined as those start dates which occur from the hours of 5am to 11:59am (PST).<br>\n",
    "* Commuter trips has been defined as those trips which occur from Monday to Friday.<br>\n",
    "* A single trip has a defined start station and end station name.\n"
   ]
  },
  {
   "cell_type": "code",
   "execution_count": 119,
   "metadata": {},
   "outputs": [],
   "source": [
    "%%bigquery df_morning\n",
    "\n",
    "SELECT start_station_name, end_station_name,\n",
    "COUNT(CASE WHEN EXTRACT(DAYOFWEEK FROM start_date) IN (2,3,4,5,6) and EXTRACT(HOUR FROM start_date) >= 5 and EXTRACT(HOUR FROM start_date) <= 11 THEN 1 END) AS weekday_morning_trips\n",
    "FROM `bigquery-public-data.san_francisco.bikeshare_trips`\n",
    "GROUP BY start_station_name, end_station_name ORDER BY weekday_morning_trips DESC LIMIT 10"
   ]
  },
  {
   "cell_type": "code",
   "execution_count": 24,
   "metadata": {},
   "outputs": [
    {
     "data": {
      "text/html": [
       "<div>\n",
       "<style scoped>\n",
       "    .dataframe tbody tr th:only-of-type {\n",
       "        vertical-align: middle;\n",
       "    }\n",
       "\n",
       "    .dataframe tbody tr th {\n",
       "        vertical-align: top;\n",
       "    }\n",
       "\n",
       "    .dataframe thead th {\n",
       "        text-align: right;\n",
       "    }\n",
       "</style>\n",
       "<table border=\"1\" class=\"dataframe\">\n",
       "  <thead>\n",
       "    <tr style=\"text-align: right;\">\n",
       "      <th></th>\n",
       "      <th>start_station_name</th>\n",
       "      <th>end_station_name</th>\n",
       "      <th>weekday_morning_trips</th>\n",
       "    </tr>\n",
       "  </thead>\n",
       "  <tbody>\n",
       "    <tr>\n",
       "      <th>0</th>\n",
       "      <td>Harry Bridges Plaza (Ferry Building)</td>\n",
       "      <td>2nd at Townsend</td>\n",
       "      <td>4981</td>\n",
       "    </tr>\n",
       "    <tr>\n",
       "      <th>1</th>\n",
       "      <td>San Francisco Caltrain (Townsend at 4th)</td>\n",
       "      <td>Temporary Transbay Terminal (Howard at Beale)</td>\n",
       "      <td>4496</td>\n",
       "    </tr>\n",
       "    <tr>\n",
       "      <th>2</th>\n",
       "      <td>San Francisco Caltrain 2 (330 Townsend)</td>\n",
       "      <td>Townsend at 7th</td>\n",
       "      <td>4446</td>\n",
       "    </tr>\n",
       "    <tr>\n",
       "      <th>3</th>\n",
       "      <td>Steuart at Market</td>\n",
       "      <td>2nd at Townsend</td>\n",
       "      <td>4294</td>\n",
       "    </tr>\n",
       "    <tr>\n",
       "      <th>4</th>\n",
       "      <td>Harry Bridges Plaza (Ferry Building)</td>\n",
       "      <td>Embarcadero at Sansome</td>\n",
       "      <td>3787</td>\n",
       "    </tr>\n",
       "    <tr>\n",
       "      <th>5</th>\n",
       "      <td>Market at Sansome</td>\n",
       "      <td>2nd at South Park</td>\n",
       "      <td>3760</td>\n",
       "    </tr>\n",
       "    <tr>\n",
       "      <th>6</th>\n",
       "      <td>San Francisco Caltrain (Townsend at 4th)</td>\n",
       "      <td>Embarcadero at Folsom</td>\n",
       "      <td>3755</td>\n",
       "    </tr>\n",
       "    <tr>\n",
       "      <th>7</th>\n",
       "      <td>San Francisco Caltrain (Townsend at 4th)</td>\n",
       "      <td>Harry Bridges Plaza (Ferry Building)</td>\n",
       "      <td>3407</td>\n",
       "    </tr>\n",
       "    <tr>\n",
       "      <th>8</th>\n",
       "      <td>Steuart at Market</td>\n",
       "      <td>Embarcadero at Sansome</td>\n",
       "      <td>3266</td>\n",
       "    </tr>\n",
       "    <tr>\n",
       "      <th>9</th>\n",
       "      <td>San Francisco Caltrain (Townsend at 4th)</td>\n",
       "      <td>Steuart at Market</td>\n",
       "      <td>3175</td>\n",
       "    </tr>\n",
       "  </tbody>\n",
       "</table>\n",
       "</div>"
      ],
      "text/plain": [
       "                         start_station_name  \\\n",
       "0      Harry Bridges Plaza (Ferry Building)   \n",
       "1  San Francisco Caltrain (Townsend at 4th)   \n",
       "2   San Francisco Caltrain 2 (330 Townsend)   \n",
       "3                         Steuart at Market   \n",
       "4      Harry Bridges Plaza (Ferry Building)   \n",
       "5                         Market at Sansome   \n",
       "6  San Francisco Caltrain (Townsend at 4th)   \n",
       "7  San Francisco Caltrain (Townsend at 4th)   \n",
       "8                         Steuart at Market   \n",
       "9  San Francisco Caltrain (Townsend at 4th)   \n",
       "\n",
       "                                end_station_name  weekday_morning_trips  \n",
       "0                                2nd at Townsend                   4981  \n",
       "1  Temporary Transbay Terminal (Howard at Beale)                   4496  \n",
       "2                                Townsend at 7th                   4446  \n",
       "3                                2nd at Townsend                   4294  \n",
       "4                         Embarcadero at Sansome                   3787  \n",
       "5                              2nd at South Park                   3760  \n",
       "6                          Embarcadero at Folsom                   3755  \n",
       "7           Harry Bridges Plaza (Ferry Building)                   3407  \n",
       "8                         Embarcadero at Sansome                   3266  \n",
       "9                              Steuart at Market                   3175  "
      ]
     },
     "execution_count": 24,
     "metadata": {},
     "output_type": "execute_result"
    }
   ],
   "source": [
    "df_morning"
   ]
  },
  {
   "cell_type": "markdown",
   "metadata": {},
   "source": [
    "### Afternoon Commuter Trips \n",
    "* The following SQL code loads the top 10 most popular afternoon commuter trips into Pandas using the magic command.<br> \n",
    "* Afternoon has been defined as those start dates which occur from the hours of 12 noon to 6:59pm (PST).<br>\n",
    "* Commuter trips has been defined as those trips which occur from Monday to Friday.<br>\n",
    "* A single trip has a defined start station and end station name."
   ]
  },
  {
   "cell_type": "code",
   "execution_count": 25,
   "metadata": {},
   "outputs": [],
   "source": [
    "%%bigquery df_afternoon\n",
    "\n",
    "SELECT start_station_name, end_station_name,\n",
    "COUNT(CASE WHEN EXTRACT(DAYOFWEEK FROM start_date) IN (2,3,4,5,6) and EXTRACT(HOUR FROM start_date) >= 12 and EXTRACT(HOUR FROM start_date) <= 18 THEN 1 END) AS weekday_afternoon_trips\n",
    "FROM `bigquery-public-data.san_francisco.bikeshare_trips`\n",
    "GROUP BY start_station_name, end_station_name ORDER BY weekday_afternoon_trips DESC LIMIT 10"
   ]
  },
  {
   "cell_type": "code",
   "execution_count": 26,
   "metadata": {},
   "outputs": [
    {
     "data": {
      "text/html": [
       "<div>\n",
       "<style scoped>\n",
       "    .dataframe tbody tr th:only-of-type {\n",
       "        vertical-align: middle;\n",
       "    }\n",
       "\n",
       "    .dataframe tbody tr th {\n",
       "        vertical-align: top;\n",
       "    }\n",
       "\n",
       "    .dataframe thead th {\n",
       "        text-align: right;\n",
       "    }\n",
       "</style>\n",
       "<table border=\"1\" class=\"dataframe\">\n",
       "  <thead>\n",
       "    <tr style=\"text-align: right;\">\n",
       "      <th></th>\n",
       "      <th>start_station_name</th>\n",
       "      <th>end_station_name</th>\n",
       "      <th>weekday_afternoon_trips</th>\n",
       "    </tr>\n",
       "  </thead>\n",
       "  <tbody>\n",
       "    <tr>\n",
       "      <th>0</th>\n",
       "      <td>2nd at Townsend</td>\n",
       "      <td>Harry Bridges Plaza (Ferry Building)</td>\n",
       "      <td>5503</td>\n",
       "    </tr>\n",
       "    <tr>\n",
       "      <th>1</th>\n",
       "      <td>Embarcadero at Folsom</td>\n",
       "      <td>San Francisco Caltrain (Townsend at 4th)</td>\n",
       "      <td>5043</td>\n",
       "    </tr>\n",
       "    <tr>\n",
       "      <th>2</th>\n",
       "      <td>Embarcadero at Sansome</td>\n",
       "      <td>Steuart at Market</td>\n",
       "      <td>4608</td>\n",
       "    </tr>\n",
       "    <tr>\n",
       "      <th>3</th>\n",
       "      <td>Temporary Transbay Terminal (Howard at Beale)</td>\n",
       "      <td>San Francisco Caltrain (Townsend at 4th)</td>\n",
       "      <td>4163</td>\n",
       "    </tr>\n",
       "    <tr>\n",
       "      <th>4</th>\n",
       "      <td>Steuart at Market</td>\n",
       "      <td>San Francisco Caltrain (Townsend at 4th)</td>\n",
       "      <td>4111</td>\n",
       "    </tr>\n",
       "    <tr>\n",
       "      <th>5</th>\n",
       "      <td>Townsend at 7th</td>\n",
       "      <td>San Francisco Caltrain 2 (330 Townsend)</td>\n",
       "      <td>3828</td>\n",
       "    </tr>\n",
       "    <tr>\n",
       "      <th>6</th>\n",
       "      <td>2nd at South Park</td>\n",
       "      <td>Market at Sansome</td>\n",
       "      <td>3773</td>\n",
       "    </tr>\n",
       "    <tr>\n",
       "      <th>7</th>\n",
       "      <td>Market at 10th</td>\n",
       "      <td>San Francisco Caltrain 2 (330 Townsend)</td>\n",
       "      <td>3535</td>\n",
       "    </tr>\n",
       "    <tr>\n",
       "      <th>8</th>\n",
       "      <td>Howard at 2nd</td>\n",
       "      <td>San Francisco Caltrain (Townsend at 4th)</td>\n",
       "      <td>3258</td>\n",
       "    </tr>\n",
       "    <tr>\n",
       "      <th>9</th>\n",
       "      <td>Townsend at 7th</td>\n",
       "      <td>Civic Center BART (7th at Market)</td>\n",
       "      <td>2940</td>\n",
       "    </tr>\n",
       "  </tbody>\n",
       "</table>\n",
       "</div>"
      ],
      "text/plain": [
       "                              start_station_name  \\\n",
       "0                                2nd at Townsend   \n",
       "1                          Embarcadero at Folsom   \n",
       "2                         Embarcadero at Sansome   \n",
       "3  Temporary Transbay Terminal (Howard at Beale)   \n",
       "4                              Steuart at Market   \n",
       "5                                Townsend at 7th   \n",
       "6                              2nd at South Park   \n",
       "7                                 Market at 10th   \n",
       "8                                  Howard at 2nd   \n",
       "9                                Townsend at 7th   \n",
       "\n",
       "                           end_station_name  weekday_afternoon_trips  \n",
       "0      Harry Bridges Plaza (Ferry Building)                     5503  \n",
       "1  San Francisco Caltrain (Townsend at 4th)                     5043  \n",
       "2                         Steuart at Market                     4608  \n",
       "3  San Francisco Caltrain (Townsend at 4th)                     4163  \n",
       "4  San Francisco Caltrain (Townsend at 4th)                     4111  \n",
       "5   San Francisco Caltrain 2 (330 Townsend)                     3828  \n",
       "6                         Market at Sansome                     3773  \n",
       "7   San Francisco Caltrain 2 (330 Townsend)                     3535  \n",
       "8  San Francisco Caltrain (Townsend at 4th)                     3258  \n",
       "9         Civic Center BART (7th at Market)                     2940  "
      ]
     },
     "execution_count": 26,
     "metadata": {},
     "output_type": "execute_result"
    }
   ],
   "source": [
    "df_afternoon"
   ]
  },
  {
   "cell_type": "markdown",
   "metadata": {},
   "source": [
    "### Popular Commuter Stations\n",
    "* Based on the morning and afternoon commuter trip data there is clear indication that many trips occur out of main transport hubs at the Ferry Building and the Caltrain station \n",
    "* The following SQL code loads the total number of commuter trips occuring out of the Ferry Building and Caltrain stations in the morning.<br>\n",
    "* Morning has been defined as those start dates which occur from the hours of 5am to 11:59am (PST).<br>\n",
    "* Commuter trips has been defined as those trips which occur from Monday to Friday.<br>\n",
    "* This data is formatted as a csv file and then reading the csv file into Pandas. \n",
    "* This process was used simply to demonstrate knowledge of alternate methods of loading data into Pandas "
   ]
  },
  {
   "cell_type": "code",
   "execution_count": 31,
   "metadata": {},
   "outputs": [
    {
     "name": "stdout",
     "output_type": "stream",
     "text": [
      "Waiting on bqjob_r2636a2d471f23f8b_0000017028d02ae3_1 ... (0s) Current status: DONE   \n"
     ]
    }
   ],
   "source": [
    "! bq query --use_legacy_sql=FALSE --format=csv 'SELECT start_station_name, COUNT(CASE WHEN EXTRACT(DAYOFWEEK FROM start_date) IN (2,3,4,5,6) and EXTRACT(HOUR FROM start_date) >= 5 and EXTRACT(HOUR FROM start_date) <= 11 THEN 1 END) AS weekday_morning_trips FROM `bigquery-public-data.san_francisco.bikeshare_trips` WHERE start_station_name IN (\"Harry Bridges Plaza (Ferry Building)\",\"San Francisco Caltrain (Townsend at 4th)\",\"San Francisco Caltrain 2 (330 Townsend)\") GROUP BY start_station_name ORDER BY weekday_morning_trips DESC'> result.csv"
   ]
  },
  {
   "cell_type": "code",
   "execution_count": 32,
   "metadata": {},
   "outputs": [],
   "source": [
    "popular_stations = pd.read_csv('result.csv')"
   ]
  },
  {
   "cell_type": "code",
   "execution_count": 33,
   "metadata": {},
   "outputs": [
    {
     "data": {
      "text/html": [
       "<div>\n",
       "<style scoped>\n",
       "    .dataframe tbody tr th:only-of-type {\n",
       "        vertical-align: middle;\n",
       "    }\n",
       "\n",
       "    .dataframe tbody tr th {\n",
       "        vertical-align: top;\n",
       "    }\n",
       "\n",
       "    .dataframe thead th {\n",
       "        text-align: right;\n",
       "    }\n",
       "</style>\n",
       "<table border=\"1\" class=\"dataframe\">\n",
       "  <thead>\n",
       "    <tr style=\"text-align: right;\">\n",
       "      <th></th>\n",
       "      <th>start_station_name</th>\n",
       "      <th>weekday_morning_trips</th>\n",
       "    </tr>\n",
       "  </thead>\n",
       "  <tbody>\n",
       "    <tr>\n",
       "      <th>0</th>\n",
       "      <td>San Francisco Caltrain (Townsend at 4th)</td>\n",
       "      <td>46503</td>\n",
       "    </tr>\n",
       "    <tr>\n",
       "      <th>1</th>\n",
       "      <td>San Francisco Caltrain 2 (330 Townsend)</td>\n",
       "      <td>35365</td>\n",
       "    </tr>\n",
       "    <tr>\n",
       "      <th>2</th>\n",
       "      <td>Harry Bridges Plaza (Ferry Building)</td>\n",
       "      <td>23992</td>\n",
       "    </tr>\n",
       "  </tbody>\n",
       "</table>\n",
       "</div>"
      ],
      "text/plain": [
       "                         start_station_name  weekday_morning_trips\n",
       "0  San Francisco Caltrain (Townsend at 4th)                  46503\n",
       "1   San Francisco Caltrain 2 (330 Townsend)                  35365\n",
       "2      Harry Bridges Plaza (Ferry Building)                  23992"
      ]
     },
     "execution_count": 33,
     "metadata": {},
     "output_type": "execute_result"
    }
   ],
   "source": [
    "popular_stations"
   ]
  },
  {
   "cell_type": "markdown",
   "metadata": {},
   "source": [
    "## 2. Data Visualizations"
   ]
  },
  {
   "cell_type": "markdown",
   "metadata": {},
   "source": [
    "### Morning Commuter Trip Visualization\n",
    "* The following chart shows the top 5 most popular commuter trips in the morning\n",
    "* The morning was selected because it is shown that people have more consistent morning commute times compared to their evening commute times"
   ]
  },
  {
   "cell_type": "code",
   "execution_count": 114,
   "metadata": {},
   "outputs": [
    {
     "data": {
      "image/png": "[encoded data removed]",
      "text/plain": [
       "<Figure size 432x288 with 1 Axes>"
      ]
     },
     "metadata": {
      "needs_background": "light"
     },
     "output_type": "display_data"
    }
   ],
   "source": [
    "import matplotlib.pyplot as plt\n",
    "morning_plot = df_morning.head()\n",
    "morning_plot.plot(kind='barh',x='start_station_name',y='weekday_morning_trips', legend=None)\n",
    "\n",
    "plt.title('Top 5 Most Popular Morning Commuter Trips',fontsize=20)\n",
    "\n",
    "plt.ylabel('Start Station',fontsize=20)\n",
    "plt.yticks(fontsize=10)\n",
    "plt.xlabel('Number of Trips',fontsize=20)\n",
    "plt.xticks(fontsize=10)\n",
    "\n",
    "ax2.plt\n",
    "ax2 = ax.twinx()\n",
    "ax2.set_ylabel(\"End Station\")\n",
    "\n",
    "plt.show()"
   ]
  },
  {
   "cell_type": "markdown",
   "metadata": {},
   "source": [
    "### Popular Stations Visualization\n",
    "* The following chart shows the 3 most popular station in the morning\n"
   ]
  },
  {
   "cell_type": "code",
   "execution_count": 107,
   "metadata": {},
   "outputs": [
    {
     "data": {
      "text/plain": [
       "(array([    0., 10000., 20000., 30000., 40000., 50000.]),\n",
       " <a list of 6 Text xticklabel objects>)"
      ]
     },
     "execution_count": 107,
     "metadata": {},
     "output_type": "execute_result"
    },
    {
     "data": {
      "image/png": "[encoded data removed]",
      "text/plain": [
       "<Figure size 432x288 with 1 Axes>"
      ]
     },
     "metadata": {
      "needs_background": "light"
     },
     "output_type": "display_data"
    }
   ],
   "source": [
    "import matplotlib.pyplot as plt\n",
    "popular_stations.plot(kind='barh',x='start_station_name',y='weekday_morning_trips', legend=None)\n",
    "\n",
    "plt.title('Popular Commuter Stations',fontsize=20)\n",
    "\n",
    "plt.ylabel('Start Station',fontsize=20)\n",
    "plt.yticks(fontsize=10)\n",
    "plt.xlabel('Number of Trips',fontsize=20)\n",
    "plt.xticks(fontsize=10)\n"
   ]
  },
  {
   "cell_type": "markdown",
   "metadata": {},
   "source": [
    "## 3. Conclusion"
   ]
  },
  {
   "cell_type": "markdown",
   "metadata": {},
   "source": [
    "Based on the data provided in the Lyft Bay Wheels data set, insights were gathered to determine the most popular commuter trips. A number of recommendations for offers is provided based on these data insights."
   ]
  },
  {
   "cell_type": "markdown",
   "metadata": {},
   "source": [
    "### Most Popular Commuter Trips\n",
    "This report has defined commuter trips as trips that occur from Monday through Friday. In addition, the trips were separated into morning and afternoon trips, with morning being defined as the hours from 5am to 11:59am and afternoon trips being defined as the hours from 12 noon to 6:59pm. The following are the results of the top 5 commuter trips.\n",
    "\n",
    "### Top 5 Morning Commuter Trips\n",
    "* Harry Bridges Plaza (Ferry Building) to 2nd at Townsend\n",
    "* San Francisco Caltrain (Townsend at 4th) to Temporary Transbay Terminal (Howard at Beale)\n",
    "* San Francisco Caltrain 2 (330 Townsend) to Townsend at 7th\n",
    "* Steuart at Market to 2nd at Townsend\n",
    "* Harry Bridges Plaza (Ferry Building) to Embarcadero at Sansome\n",
    "\n",
    "\n",
    "### Top 5 Afternoon Commuter Trips\n",
    "* 2nd at Townsend to Harry Bridges Plaza (Ferry Building)\n",
    "* Embarcadero at Folsom to San Francisco Caltrain (Townsend at 4th)\n",
    "* Embarcadero at Sansome to Steuart at Market\n",
    "* Temporary Transbay Terminal (Howard at Beale) to San Francisco Caltrain (Townsend at 4th)\n",
    "* Steuart at Market to San Francisco Caltrain (Townsend at 4th)\n",
    "\n",
    "Review of the top 5 commuter trips provided additional insight into popular stations. Expectedly, many of the commuter trips in the morning are starting from transport hubs at the Ferry Building and Caltrain stations. The following provides information regarding the number of trips that are taken from these transport hubs in the morning.\n",
    "\n",
    "\n",
    "### Morning Trips from Popular Stations\n",
    "* San Francisco Caltrain (Townsend at 4th): 46503 Trips\n",
    "* San Francisco Caltrain 2 (330 Townsend): 35365 Trips\n",
    "* Harry Bridges Plaza (Ferry Building): 23992 Trips"
   ]
  },
  {
   "cell_type": "markdown",
   "metadata": {},
   "source": [
    "### Recommendations for Offers\n",
    "\n",
    "Based on the data insights regarding Popular Commuter Trips, the following offers are recommended:\n",
    "* Offer a discounted corporate membership to the riders who take the top 5 commuter trips: These riders who make daily commuter trips have a high liklihood of working for a large company in San Francisco. To encourage continued ridership of Lyft Bay Wheels, an corporate discount with limited cost to the rider could retain riders as well as encourage new riders to join through word of mouth.  \n",
    "* Offer a discounted annual membership or corporate membership to the riders who start and/or end at the Ferry Building or San Francisco Caltrain: Riders who use Lyft Bay Wheels out of these stations are likely coming from outside of the San Francisco city limits. Given the multiple transportation options available to these commuters (ie Bart or Car), these riders are more likely to use different options in the event that using Lyft Bay Wheels becomes inconvienient (ie when it rains or when the price is too expensive). A discounted annual membership or corporate membership, will encourage the commuter to stay Lyft Bay Wheels and lock in their fees for the year.\n",
    "* Offer a free return ride to the Ferry Building or Caltrain Station for commuters who leave out of those stations in the morning commute: To encourage single day riders to use Lyft Bay Wheels, offer a free return ride to commuters. Return rides should be made during the same day during the afternoon hours. "
   ]
  }
 ],
 "metadata": {
  "kernelspec": {
   "display_name": "Python 3",
   "language": "python",
   "name": "python3"
  },
  "language_info": {
   "codemirror_mode": {
    "name": "ipython",
    "version": 3
   },
   "file_extension": ".py",
   "mimetype": "text/x-python",
   "name": "python",
   "nbconvert_exporter": "python",
   "pygments_lexer": "ipython3",
   "version": "3.7.4"
  }
 },
 "nbformat": 4,
 "nbformat_minor": 4
}
